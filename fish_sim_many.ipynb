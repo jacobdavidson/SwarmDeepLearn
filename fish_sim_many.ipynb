{
 "cells": [
  {
   "cell_type": "code",
   "execution_count": 1,
   "metadata": {
    "collapsed": true
   },
   "outputs": [],
   "source": [
    "### For visualizing the 5-fish data. See other file for comments.\n",
    "\n",
    "import cv2\n",
    "import pandas as pd\n",
    "import numpy as np\n",
    "import time\n",
    "import matplotlib.pyplot as plt"
   ]
  },
  {
   "cell_type": "code",
   "execution_count": 21,
   "metadata": {
    "collapsed": false
   },
   "outputs": [
    {
     "name": "stdout",
     "output_type": "stream",
     "text": [
      "[[  686.93712086   702.28947842   727.67798402 ...,   232.52146611\n",
      "    171.96737759   259.78975733]\n",
      " [  686.6770593    701.62949356   727.69390666 ...,   232.81675245\n",
      "    171.56963702   259.29342002]\n",
      " [  686.38728366   700.92056963   727.67725458 ...,   233.12809329\n",
      "    171.18613069   258.80400447]\n",
      " ..., \n",
      " [ 2432.53313288  1457.96934423  2401.50603958 ...,   -14.37057291\n",
      "    479.05500712   991.79825336]\n",
      " [ 2434.67167645  1460.37813839  2406.56737597 ...,   -15.58057381\n",
      "    476.80989631   990.82375637]\n",
      " [ 2436.39058563  1462.04520485  2411.08586522 ...,   -17.16313628\n",
      "    474.29232653   989.76319861]]\n",
      "(1000, 10)\n"
     ]
    }
   ],
   "source": [
    "# This function is for parsing data from multiple fish. Doesn't do anything to the data with one fish.\n",
    "def parse_data_many_fish(all_data, n, speed_up=1): # n is the number of fish\n",
    "    if n==1:\n",
    "        return all_data\n",
    "    \n",
    "    \"split the data of n fish into n columns\"\n",
    "    dimension= len(all_data)\n",
    "    print('data:', dimension)\n",
    "    if dimension % n != 0:\n",
    "        print(\"data seems strange\")\n",
    "    new_dimension = dimension//n\n",
    "    print(new_dimension)\n",
    "    new_data = np.empty([new_dimension//speed_up, 2*n])\n",
    "    # print(new_data)\n",
    "    for j in range(0, new_dimension-1, speed_up):\n",
    "        for i in range(n):\n",
    "           new_data[j//speed_up][i] = all_data[i+j,0]\n",
    "           new_data[j//speed_up][i+n] = all_data[i+j,1]\n",
    "    return new_data\n",
    "\n",
    "\n",
    "def load_horizontal_data(readfile):\n",
    "    all_data = pd.read_csv(readfile ,sep = \",\")\n",
    "    print(all_data.shape, all_data.shape[1])\n",
    "    length = all_data.shape[1]\n",
    "    new_data = np.zeros([length,2])\n",
    "    print(all_data)\n",
    "    for i in range(length):\n",
    "        if (all_data.iloc[0,i]-1)<0.5:\n",
    "            new_data[i,0] = all_data.iloc[1,i]\n",
    "            new_data[i,1] = all_data.iloc[2,i]\n",
    "    # print(all_data)\n",
    "    print(new_data)\n",
    "    return new_data\n",
    "\n",
    "def load_data(readfile):\n",
    "    all_data = pd.read_csv(readfile, sep=\",\", header=0)  # Jolle's data is 4,5th\n",
    "    # all_data = pd.read_csv(readfile, sep=\",\", header=0)\n",
    "    # all_data = parse_data(all_data.values, 1)\n",
    "    return all_data\n",
    "\n",
    "# readfile = '2_bias_10000steps.csv'\n",
    "# readfile = 'JolleFishData/170202_pi11_SOLI_S18_F078_TR.csv'\n",
    "# readfile = 'predict3.csv'\n",
    "# readfile = 'predict_window_50.csv'\n",
    "# readfile = 'PredictedHumanTrajectories/generated.csv'\n",
    "# readfile = 'social-lstm-tf-master/data/eth/univ/pixel_pos.csv'\n",
    "# readfile = 'JolleFishData-5fish/CM1FRE_150324_1147_RP10_S04_G22_P.csv'\n",
    "# readfile = '07-14-17-five_fish-xy-pred_delta_xy-embed64-relu-l2-3x128-5000_steps.csv'\n",
    "#readfile = 'five_fish-embed-relu-l2-5000_steps.csv'\n",
    "# readfile = 'ModelOutputs/five_fish_xy-embed_64-relu_2x256-l2_norm-pred_five_fish_delta_xy-5000_steps.csv'\n",
    "readfile = '07-26-17-five_fish_xy-embed_64-relu_2x256-l2_norm-pred_five_fish_delta_xy-MORE_DATA_10000_steps-sim_000.csv'\n",
    "readfile = '07-26-17-five_fish_xy-embed_64-relu_2x256-l2_norm-pred_five_fish_delta_xy-MORE_DATA_5000_steps.csv'\n",
    "speed_factor = 5\n",
    "all_data = load_data(readfile)\n",
    "all_data = all_data.iloc[::speed_factor,:].values\n",
    "# all_data = load_horizontal_data(readfile)\n",
    "print(all_data)\n",
    "# all_data= parse_data_many_fish(all_data,5,speed_up = 5)\n",
    "# print(all_data)\n",
    "# print(all_data)\n",
    "print(all_data.shape)\n",
    "\n",
    "# stretch_factor = 500\n",
    "# all_data = all_data*500\n",
    "# print(all_data)"
   ]
  },
  {
   "cell_type": "code",
   "execution_count": 22,
   "metadata": {
    "collapsed": false
   },
   "outputs": [
    {
     "ename": "IndexError",
     "evalue": "index 1000 is out of bounds for axis 0 with size 1000",
     "output_type": "error",
     "traceback": [
      "\u001b[0;31m---------------------------------------------------------------------------\u001b[0m",
      "\u001b[0;31mIndexError\u001b[0m                                Traceback (most recent call last)",
      "\u001b[0;32m<ipython-input-22-22621b800b89>\u001b[0m in \u001b[0;36m<module>\u001b[0;34m()\u001b[0m\n\u001b[1;32m     16\u001b[0m     \u001b[0;32mfor\u001b[0m \u001b[0mj\u001b[0m \u001b[0;32min\u001b[0m \u001b[0mrange\u001b[0m\u001b[0;34m(\u001b[0m\u001b[0mnumber_fish\u001b[0m\u001b[0;34m)\u001b[0m\u001b[0;34m:\u001b[0m\u001b[0;34m\u001b[0m\u001b[0m\n\u001b[1;32m     17\u001b[0m         \u001b[0;31m#cv2.circle (Frame_one, (int(round(all_data[i][2*j])),int(round(all_data[i][2*j+1]))), 3, (0,0,0), -1)\u001b[0m\u001b[0;34m\u001b[0m\u001b[0;34m\u001b[0m\u001b[0m\n\u001b[0;32m---> 18\u001b[0;31m         \u001b[0mcv2\u001b[0m\u001b[0;34m.\u001b[0m\u001b[0mcircle\u001b[0m \u001b[0;34m(\u001b[0m\u001b[0mFrame_one\u001b[0m\u001b[0;34m,\u001b[0m \u001b[0;34m(\u001b[0m\u001b[0mint\u001b[0m\u001b[0;34m(\u001b[0m\u001b[0mround\u001b[0m\u001b[0;34m(\u001b[0m\u001b[0mall_data\u001b[0m\u001b[0;34m[\u001b[0m\u001b[0mi\u001b[0m\u001b[0;34m]\u001b[0m\u001b[0;34m[\u001b[0m\u001b[0mj\u001b[0m\u001b[0;34m]\u001b[0m\u001b[0;34m)\u001b[0m\u001b[0;34m)\u001b[0m\u001b[0;34m,\u001b[0m\u001b[0mint\u001b[0m\u001b[0;34m(\u001b[0m\u001b[0mround\u001b[0m\u001b[0;34m(\u001b[0m\u001b[0mall_data\u001b[0m\u001b[0;34m[\u001b[0m\u001b[0mi\u001b[0m\u001b[0;34m]\u001b[0m\u001b[0;34m[\u001b[0m\u001b[0mj\u001b[0m\u001b[0;34m+\u001b[0m\u001b[0mnumber_fish\u001b[0m\u001b[0;34m]\u001b[0m\u001b[0;34m)\u001b[0m\u001b[0;34m)\u001b[0m\u001b[0;34m)\u001b[0m\u001b[0;34m,\u001b[0m \u001b[0;36m3\u001b[0m\u001b[0;34m,\u001b[0m \u001b[0;34m(\u001b[0m\u001b[0;36m0\u001b[0m\u001b[0;34m,\u001b[0m\u001b[0;36m0\u001b[0m\u001b[0;34m,\u001b[0m\u001b[0;36m0\u001b[0m\u001b[0;34m)\u001b[0m\u001b[0;34m,\u001b[0m \u001b[0;34m-\u001b[0m\u001b[0;36m1\u001b[0m\u001b[0;34m)\u001b[0m\u001b[0;34m\u001b[0m\u001b[0m\n\u001b[0m\u001b[1;32m     19\u001b[0m \u001b[0;34m\u001b[0m\u001b[0m\n\u001b[1;32m     20\u001b[0m     \u001b[0;31m#time.sleep(1/(frame_rate*speed_up))\u001b[0m\u001b[0;34m\u001b[0m\u001b[0;34m\u001b[0m\u001b[0m\n",
      "\u001b[0;31mIndexError\u001b[0m: index 1000 is out of bounds for axis 0 with size 1000"
     ]
    }
   ],
   "source": [
    "frame_rate = 24 # this is the frame rate of the input video\n",
    "speed_up = 500\n",
    "number_fish = 5\n",
    "\n",
    "#fish tank: x-max= 775, y_max = 515\n",
    "x_max = 775\n",
    "y_max = 775\n",
    "\n",
    "Frame_one = np.full((y_max, x_max, 4), 255, np.uint8)\n",
    "Frame_two = np.copy(Frame_one)\n",
    "\n",
    "# amount_time = len(all_data)\n",
    "amount_time = 1500\n",
    "\n",
    "for i in range(amount_time):\n",
    "    for j in range(number_fish):\n",
    "        #cv2.circle (Frame_one, (int(round(all_data[i][2*j])),int(round(all_data[i][2*j+1]))), 3, (0,0,0), -1)\n",
    "        cv2.circle (Frame_one, (int(round(all_data[i][j])),int(round(all_data[i][j+number_fish]))), 3, (0,0,0), -1)\n",
    "        \n",
    "    #time.sleep(1/(frame_rate*speed_up))\n",
    "    \n",
    "    # cv2.imshow('Animation', Frame_one)\n",
    "    cv2.imwrite( \"./video-simulated-five-fish-better/frame\" + str(i).zfill(5) + \".jpg\", Frame_one )\n",
    "    \n",
    "    \n",
    "    for j in range(number_fish):\n",
    "        #cv2.circle (Frame_one, (int(round(all_data[i][2*j])),int(round(all_data[i][2*j+1]))), 3, (255,255,255), -1)\n",
    "        cv2.circle (Frame_one, (int(round(all_data[i][j])),int(round(all_data[i][j+number_fish]))), 3, (0,0,0), -1)\n",
    "     \n",
    "    for j in range(number_fish):\n",
    "        #cv2.circle (Frame_one, (int(round(all_data[i][2*j])),int(round(all_data[i][2*j+1]))), 3, (0,0,0), -1)\n",
    "        cv2.circle (Frame_two, (int(round(all_data[i][j])),int(round(all_data[i][j+number_fish]))), 2, (100,200,0), 0)\n",
    "  \n",
    "    # cv2.circle (Frame_one, (int(round(all_data[i][0])),int(round(all_data[i][1]))), 3, (255,255,255), -1)\n",
    "    # cv2.circle (Frame_two, (int(round(all_data[i][0])),int(round(all_data[i][1]))), 2, (100, 200,0), 0)\n",
    "    Frame_one = np.copy(Frame_two)\n",
    "    k= cv2.waitKey(1)\n",
    "    if k == 27: #press escape key to end program\n",
    "        break\n",
    "\n",
    "cv2.destroyAllWindows()\n",
    "# for i in range(5):\n",
    "#     cv2.waitKey(1)"
   ]
  },
  {
   "cell_type": "code",
   "execution_count": null,
   "metadata": {
    "collapsed": true
   },
   "outputs": [],
   "source": []
  },
  {
   "cell_type": "code",
   "execution_count": null,
   "metadata": {
    "collapsed": true
   },
   "outputs": [],
   "source": []
  }
 ],
 "metadata": {
  "anaconda-cloud": {},
  "kernelspec": {
   "display_name": "Python [default]",
   "language": "python",
   "name": "python3"
  },
  "language_info": {
   "codemirror_mode": {
    "name": "ipython",
    "version": 3
   },
   "file_extension": ".py",
   "mimetype": "text/x-python",
   "name": "python",
   "nbconvert_exporter": "python",
   "pygments_lexer": "ipython3",
   "version": "3.5.3"
  }
 },
 "nbformat": 4,
 "nbformat_minor": 1
}
